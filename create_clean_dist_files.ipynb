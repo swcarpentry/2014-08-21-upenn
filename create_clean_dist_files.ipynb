{
 "metadata": {
  "name": "",
  "signature": "sha256:ac454803e0d1e3035c19cdd6dd2d1555d5b2989d65bbe8a0163d68b538d68286"
 },
 "nbformat": 3,
 "nbformat_minor": 0,
 "worksheets": [
  {
   "cells": [
    {
     "cell_type": "code",
     "collapsed": false,
     "input": [
      "import os, zipfile"
     ],
     "language": "python",
     "metadata": {},
     "outputs": [],
     "prompt_number": 6
    },
    {
     "cell_type": "code",
     "collapsed": false,
     "input": [
      "import io\n",
      "import sys\n",
      " \n",
      "from IPython.nbformat import current\n",
      " \n",
      "def strip_output(nb):\n",
      "    \"\"\"strip the outputs from a notebook object\"\"\"\n",
      "    nb.metadata.pop('signature', None)\n",
      "    for cell in nb.worksheets[0].cells:\n",
      "        if 'outputs' in cell:\n",
      "            cell['outputs'] = []\n",
      "        if 'prompt_number' in cell:\n",
      "            cell['prompt_number'] = \"\"\n",
      "    return nb\n",
      "\n",
      "def strip_nb(filename):\n",
      "    with io.open(filename, 'r', encoding='utf8') as f:\n",
      "        nb = current.read(f, 'json')\n",
      "    nb = strip_output(nb)\n",
      "    out = filename.replace(\".ipynb\", \"_clean.ipynb\")\n",
      "    with io.open(out, 'w', encoding='utf8') as f:\n",
      "        current.write(nb, f, 'json')\n",
      "    return out"
     ],
     "language": "python",
     "metadata": {},
     "outputs": [],
     "prompt_number": 28
    },
    {
     "cell_type": "code",
     "collapsed": false,
     "input": [
      "d = \"novice\""
     ],
     "language": "python",
     "metadata": {},
     "outputs": [],
     "prompt_number": 10
    },
    {
     "cell_type": "code",
     "collapsed": false,
     "input": [
      "cd $d"
     ],
     "language": "python",
     "metadata": {},
     "outputs": [
      {
       "output_type": "stream",
       "stream": "stdout",
       "text": [
        "[Errno 2] No such file or directory: 'novice'\n",
        "/Users/chris/Drive/Documents/science/swc/2014-08-21-upenn/novice\n"
       ]
      }
     ],
     "prompt_number": 11
    },
    {
     "cell_type": "code",
     "collapsed": false,
     "input": [
      "lessons = ['git', 'python','shell', 'sql']"
     ],
     "language": "python",
     "metadata": {},
     "outputs": [],
     "prompt_number": 8
    },
    {
     "cell_type": "code",
     "collapsed": false,
     "input": [
      "zip_file = \"../setup/data.zip\"\n",
      "with zipfile.ZipFile(zip_file, \"w\") as z:\n",
      "    for l in lessons:\n",
      "        files = !find {l} -type f | grep -v checkpoint | grep -v _clean\n",
      "        files = [x for x in files if not \".md\" in x]\n",
      "        for f in files:\n",
      "            if \"ipynb\" in f:\n",
      "                f = strip_nb(f)\n",
      "            z.write(f)"
     ],
     "language": "python",
     "metadata": {},
     "outputs": [],
     "prompt_number": 30
    },
    {
     "cell_type": "code",
     "collapsed": false,
     "input": [],
     "language": "python",
     "metadata": {},
     "outputs": []
    }
   ],
   "metadata": {}
  }
 ]
}