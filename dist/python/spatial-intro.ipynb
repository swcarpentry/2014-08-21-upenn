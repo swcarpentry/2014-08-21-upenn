{
 "metadata": {
  "name": "",
  "signature": "sha256:c9af9d03bb4dd7f0921971e9ae3effa85b943bb0395c6b2e69e1db74b43a080b"
 },
 "nbformat": 3,
 "nbformat_minor": 0,
 "worksheets": [
  {
   "cells": [
    {
     "cell_type": "markdown",
     "metadata": {},
     "source": [
      "## A note to students and instructors\n",
      "\n",
      "This lesson requires the [Basemap](http://matplotlib.org/basemap) toolkit for Matplotlib. This library is not distributed with Matplotlib directly. If you are using Continuum's Anaconda distribution, you can obtain the library using:\n",
      "\n",
      "    conda install basemap\n",
      "    \n",
      "If you are using Enthought Canopy and have the full version or an academic license, Basemap should already be installed on your system. Otherwise, you will need to follow the [installation instructions](http://matplotlib.org/basemap/users/installing.html) on the Basemap documentation. Using one of the two scientific distributions is preferred in most instances. "
     ]
    },
    {
     "cell_type": "heading",
     "level": 2,
     "metadata": {},
     "source": [
      "Visualizing spatial data"
     ]
    },
    {
     "cell_type": "markdown",
     "metadata": {},
     "source": [
      "Original materials by <a href=\"https://github.com/synapticarbors\">Joshua Adelman</a>; modified by <a href=\"http://www.randalolson.com/\">Randy Olson</a>"
     ]
    },
    {
     "cell_type": "markdown",
     "metadata": {},
     "source": [
      "We are examining some simple spatial coordinate data, specifically the location of all of the previous Software Carpentry bootcamps. The data set is stored in [comma-separated values](../../gloss.html#csv) (CSV) format. After the header line (marked with a `#`), each row contains the latitude and longitude for each bootcamp, separated by a comma. \n",
      "\n",
      "    # Latitude, Longitude\n",
      "    43.661476,-79.395189\n",
      "    39.332604,-76.623190\n",
      "    45.703255, 13.718013\n",
      "    43.661476,-79.395189\n",
      "    39.166381,-86.526621\n",
      "    ...\n",
      "    \n",
      "We want to:\n",
      "\n",
      "* Load the data into our analysis environment\n",
      "* Inspect the data\n",
      "* Visualize it in a meaningful context\n",
      "\n",
      "To do this, we'll begin to delve into working with Python and do a bit of programming."
     ]
    },
    {
     "cell_type": "markdown",
     "metadata": {},
     "source": [
      "## Objectives\n",
      "\n",
      "*   Explain what a library is, and what libraries are used for.\n",
      "*   Load a Python library and use the things it contains.\n",
      "*   Read tabular data from a file into a program.\n",
      "*   Display simple visualizations of the data"
     ]
    },
    {
     "cell_type": "heading",
     "level": 3,
     "metadata": {},
     "source": [
      "Loading the data"
     ]
    },
    {
     "cell_type": "markdown",
     "metadata": {},
     "source": [
      "In order to work with the coordinates stored in the file, we need to [import](../../gloss.html#import) a library called NumPy that is designed to easily handle arrays of data."
     ]
    },
    {
     "cell_type": "code",
     "collapsed": false,
     "input": [
      "import numpy as np"
     ],
     "language": "python",
     "metadata": {},
     "outputs": []
    },
    {
     "cell_type": "markdown",
     "metadata": {},
     "source": [
      "It's very common to create an [alias](../../gloss.html#alias-library) for a library when importing it\n",
      "in order to reduce the amount of typing we have to do. We can now refer to this library in the code as `np` instead of typing out `numpy` each time we want to use it.\n",
      "\n",
      "We can now ask numpy to read our data file:"
     ]
    },
    {
     "cell_type": "code",
     "collapsed": false,
     "input": [
      "lat, lon = np.loadtxt('swc_bc_coords.csv', delimiter=',', unpack=True)"
     ],
     "language": "python",
     "metadata": {},
     "outputs": []
    },
    {
     "cell_type": "markdown",
     "metadata": {},
     "source": [
      "The expression `np.loadtxt(...)` means,\n",
      "\"Run the function `loadtxt` that belongs to the `numpy` library.\"\n",
      "This [dotted notation](../../gloss.html#dotted-notation) is used everywhere in Python\n",
      "to refer to the parts of larger things.\n",
      "\n",
      "`np.loadtxt` has three [parameters](../../gloss.html#parameter):\n",
      "the name of the file we want to read,\n",
      "and the [delimiter](../../gloss.html#delimiter) that separates values on a line.\n",
      "These both need to be character strings (or [strings](../../gloss.html#string) for short),\n",
      "so we put them in quotes.\n",
      "Finally, passing the `unpack` paramter the boolean value, `True` tells `np.loadtxt` to take the first and second column of data and [assign](../../gloss.html#assignment) them to the [variables](../../gloss.html#variable)  `lat` and `lon`, respectively.\n",
      "A variable is just a name for some data.\n",
      "Also note that `np.loadtxt` automatically skipped the line with the header information, since it recognizes that \n",
      "this line is a [comment](../../gloss.html#comment) and does not contain numerical data.\n",
      "\n",
      "When we are finished typing and press Shift+Enter,\n",
      "the notebook runs our command."
     ]
    },
    {
     "cell_type": "markdown",
     "metadata": {},
     "source": [
      "`lat` and `lon` now contain our data, which we can inspect by just executing a cell with the name of a variable:"
     ]
    },
    {
     "cell_type": "code",
     "collapsed": false,
     "input": [
      "lat"
     ],
     "language": "python",
     "metadata": {},
     "outputs": []
    },
    {
     "cell_type": "markdown",
     "metadata": {},
     "source": [
      "## Visualizing the data"
     ]
    },
    {
     "cell_type": "markdown",
     "metadata": {},
     "source": [
      "The array is a type of container defined by numpy to hold values. We will discuss how to manipulate arrays in more detail in another lesson.\n",
      "For now let's just make a simple plot of the data. For this, we will use another library called `matplotlib`. First, let's tell the IPython Notebook that we want our plots displayed inline, rather than in a separate viewing window:"
     ]
    },
    {
     "cell_type": "code",
     "collapsed": false,
     "input": [
      "%matplotlib inline"
     ],
     "language": "python",
     "metadata": {},
     "outputs": []
    },
    {
     "cell_type": "markdown",
     "metadata": {},
     "source": [
      "The `%` at the start of the line signals that this is a command for the notebook,\n",
      "rather than a statement in Python.\n",
      "Next,\n",
      "we will import the `pyplot` module from `matplotlib` and use one of the commands it defines to make plot a point for each latitude, longitude pair of data."
     ]
    },
    {
     "cell_type": "code",
     "collapsed": false,
     "input": [
      "from matplotlib import pyplot\n",
      "pyplot.plot(lon, lat, 'o')"
     ],
     "language": "python",
     "metadata": {},
     "outputs": []
    },
    {
     "cell_type": "heading",
     "level": 3,
     "metadata": {},
     "source": [
      "Exercise 1"
     ]
    },
    {
     "cell_type": "markdown",
     "metadata": {},
     "source": [
      "Plot the dots with a different color according to the continent they would be on."
     ]
    },
    {
     "cell_type": "code",
     "collapsed": false,
     "input": [],
     "language": "python",
     "metadata": {},
     "outputs": []
    },
    {
     "cell_type": "markdown",
     "metadata": {},
     "source": [
      "While matplotlib provides a simple facility for visualizing numerical data in a variety of ways, we will use a supplementary toolkit called *Basemap* that enhances matplotlib to specifically deal with spatial data. We need to import this library and can do so using: "
     ]
    },
    {
     "cell_type": "code",
     "collapsed": false,
     "input": [
      "from mpl_toolkits.basemap import Basemap"
     ],
     "language": "python",
     "metadata": {},
     "outputs": []
    },
    {
     "cell_type": "markdown",
     "metadata": {},
     "source": [
      "Now let's create a Basemap object that will allow us to project the coordinates onto map. For this example we are going to use a [Robinson Projection](http://en.wikipedia.org/wiki/Robinson_projection)."
     ]
    },
    {
     "cell_type": "code",
     "collapsed": false,
     "input": [
      "basemap_graph = Basemap(projection='robin', lat_0=0.0, lon_0=0.0)"
     ],
     "language": "python",
     "metadata": {},
     "outputs": []
    },
    {
     "cell_type": "markdown",
     "metadata": {},
     "source": [
      "The parameters `lat_0` and `lon_0` define the center of the map. Now let's add some features to our map using methods defined by the `bm` object. We will also use the object itself to get the coordinates of the bootcamps in the projection given our original longitudes and latitudes. We will also tell pyplot to make the figure 12 inches by 12 inches to make it more legible."
     ]
    },
    {
     "cell_type": "code",
     "collapsed": false,
     "input": [
      "pyplot.figure(figsize=(12,12))\n",
      "basemap_graph.drawcoastlines()\n",
      "basemap_graph.drawcountries()\n",
      "basemap_graph.fillcontinents()\n",
      "basemap_graph.drawmeridians(np.arange(-180,180,20))\n",
      "basemap_graph.drawparallels(np.arange(-90,90,20))\n",
      "\n",
      "x, y = basemap_graph(lon, lat)\n",
      "basemap_graph.plot(x, y, 'o', markersize=4, color='red')"
     ],
     "language": "python",
     "metadata": {},
     "outputs": []
    },
    {
     "cell_type": "markdown",
     "metadata": {},
     "source": [
      "The final line of the above code cell mimics matplotlib's built-in `plot` method to plot our projected coordinates onto the map. \n",
      "\n",
      "With just a handful of lines of code, you see that we can create a rich visualization of our data."
     ]
    },
    {
     "cell_type": "heading",
     "level": 3,
     "metadata": {},
     "source": [
      "Exercise 2"
     ]
    },
    {
     "cell_type": "markdown",
     "metadata": {},
     "source": [
      "1. Integrate the coloring scheme from Exercise 1 into the Basemap projection.\n",
      "2. Try out a different projection that better shows the boot camp locations in North America. Here is the list of projections in Basemap: http://matplotlib.org/basemap/users/mapsetup.html"
     ]
    },
    {
     "cell_type": "code",
     "collapsed": false,
     "input": [],
     "language": "python",
     "metadata": {},
     "outputs": []
    }
   ],
   "metadata": {}
  }
 ]
}